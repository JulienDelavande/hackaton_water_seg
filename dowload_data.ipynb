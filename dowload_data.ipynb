{
 "cells": [
  {
   "cell_type": "code",
   "execution_count": null,
   "metadata": {},
   "outputs": [],
   "source": [
    "!kaggle competitions download -c water-segmentation-vtx\n",
    "import zipfile\n",
    "import os\n",
    "\n",
    "# Chemin vers le fichier zip que vous souhaitez extraire\n",
    "zip_file_path = './water-segmentation-vtx.zip'\n",
    "\n",
    "# Dossier de destination où vous souhaitez extraire les fichiers\n",
    "destination_folder = './'\n",
    "\n",
    "# Créer le dossier de destination s'il n'existe pas déjà\n",
    "if not os.path.exists(destination_folder):\n",
    "    os.makedirs(destination_folder)\n",
    "\n",
    "# Ouvrir le fichier zip en mode lecture\n",
    "with zipfile.ZipFile(zip_file_path, 'r') as zip_ref:\n",
    "    # Extraire tous les fichiers dans le dossier de destination\n",
    "    zip_ref.extractall(destination_folder)\n",
    "\n",
    "print(f\"Tous les fichiers ont été extraits dans {destination_folder}\")\n"
   ]
  }
 ],
 "metadata": {
  "language_info": {
   "name": "python"
  }
 },
 "nbformat": 4,
 "nbformat_minor": 2
}
